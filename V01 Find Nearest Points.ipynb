{
  "nbformat": 4,
  "nbformat_minor": 0,
  "metadata": {
    "colab": {
      "provenance": [],
      "authorship_tag": "ABX9TyNWI2teIvRzUNT7s49RJ962",
      "include_colab_link": true
    },
    "kernelspec": {
      "name": "python3",
      "display_name": "Python 3"
    },
    "language_info": {
      "name": "python"
    }
  },
  "cells": [
    {
      "cell_type": "markdown",
      "metadata": {
        "id": "view-in-github",
        "colab_type": "text"
      },
      "source": [
        "<a href=\"https://colab.research.google.com/github/Amin-Jalilzadeh/MY_RESUME/blob/main/V01%20Find%20Nearest%20Points.ipynb\" target=\"_parent\"><img src=\"https://colab.research.google.com/assets/colab-badge.svg\" alt=\"Open In Colab\"/></a>"
      ]
    },
    {
      "cell_type": "code",
      "execution_count": 2,
      "metadata": {
        "id": "712e-FQpFE6C"
      },
      "outputs": [],
      "source": [
        "from scipy.spatial import cKDTree\n",
        "from scipy import inf\n"
      ]
    },
    {
      "cell_type": "code",
      "source": [
        "from google.colab import files\n",
        " \n",
        " \n",
        "uploaded = files.upload()"
      ],
      "metadata": {
        "colab": {
          "base_uri": "https://localhost:8080/",
          "height": 73
        },
        "id": "H-SDxpLg9_wM",
        "outputId": "960ece27-ca9e-47ad-caa3-b05516e8309b"
      },
      "execution_count": 3,
      "outputs": [
        {
          "output_type": "display_data",
          "data": {
            "text/plain": [
              "<IPython.core.display.HTML object>"
            ],
            "text/html": [
              "\n",
              "     <input type=\"file\" id=\"files-b62394c3-c12d-482a-8460-dcd7792161c3\" name=\"files[]\" multiple disabled\n",
              "        style=\"border:none\" />\n",
              "     <output id=\"result-b62394c3-c12d-482a-8460-dcd7792161c3\">\n",
              "      Upload widget is only available when the cell has been executed in the\n",
              "      current browser session. Please rerun this cell to enable.\n",
              "      </output>\n",
              "      <script>// Copyright 2017 Google LLC\n",
              "//\n",
              "// Licensed under the Apache License, Version 2.0 (the \"License\");\n",
              "// you may not use this file except in compliance with the License.\n",
              "// You may obtain a copy of the License at\n",
              "//\n",
              "//      http://www.apache.org/licenses/LICENSE-2.0\n",
              "//\n",
              "// Unless required by applicable law or agreed to in writing, software\n",
              "// distributed under the License is distributed on an \"AS IS\" BASIS,\n",
              "// WITHOUT WARRANTIES OR CONDITIONS OF ANY KIND, either express or implied.\n",
              "// See the License for the specific language governing permissions and\n",
              "// limitations under the License.\n",
              "\n",
              "/**\n",
              " * @fileoverview Helpers for google.colab Python module.\n",
              " */\n",
              "(function(scope) {\n",
              "function span(text, styleAttributes = {}) {\n",
              "  const element = document.createElement('span');\n",
              "  element.textContent = text;\n",
              "  for (const key of Object.keys(styleAttributes)) {\n",
              "    element.style[key] = styleAttributes[key];\n",
              "  }\n",
              "  return element;\n",
              "}\n",
              "\n",
              "// Max number of bytes which will be uploaded at a time.\n",
              "const MAX_PAYLOAD_SIZE = 100 * 1024;\n",
              "\n",
              "function _uploadFiles(inputId, outputId) {\n",
              "  const steps = uploadFilesStep(inputId, outputId);\n",
              "  const outputElement = document.getElementById(outputId);\n",
              "  // Cache steps on the outputElement to make it available for the next call\n",
              "  // to uploadFilesContinue from Python.\n",
              "  outputElement.steps = steps;\n",
              "\n",
              "  return _uploadFilesContinue(outputId);\n",
              "}\n",
              "\n",
              "// This is roughly an async generator (not supported in the browser yet),\n",
              "// where there are multiple asynchronous steps and the Python side is going\n",
              "// to poll for completion of each step.\n",
              "// This uses a Promise to block the python side on completion of each step,\n",
              "// then passes the result of the previous step as the input to the next step.\n",
              "function _uploadFilesContinue(outputId) {\n",
              "  const outputElement = document.getElementById(outputId);\n",
              "  const steps = outputElement.steps;\n",
              "\n",
              "  const next = steps.next(outputElement.lastPromiseValue);\n",
              "  return Promise.resolve(next.value.promise).then((value) => {\n",
              "    // Cache the last promise value to make it available to the next\n",
              "    // step of the generator.\n",
              "    outputElement.lastPromiseValue = value;\n",
              "    return next.value.response;\n",
              "  });\n",
              "}\n",
              "\n",
              "/**\n",
              " * Generator function which is called between each async step of the upload\n",
              " * process.\n",
              " * @param {string} inputId Element ID of the input file picker element.\n",
              " * @param {string} outputId Element ID of the output display.\n",
              " * @return {!Iterable<!Object>} Iterable of next steps.\n",
              " */\n",
              "function* uploadFilesStep(inputId, outputId) {\n",
              "  const inputElement = document.getElementById(inputId);\n",
              "  inputElement.disabled = false;\n",
              "\n",
              "  const outputElement = document.getElementById(outputId);\n",
              "  outputElement.innerHTML = '';\n",
              "\n",
              "  const pickedPromise = new Promise((resolve) => {\n",
              "    inputElement.addEventListener('change', (e) => {\n",
              "      resolve(e.target.files);\n",
              "    });\n",
              "  });\n",
              "\n",
              "  const cancel = document.createElement('button');\n",
              "  inputElement.parentElement.appendChild(cancel);\n",
              "  cancel.textContent = 'Cancel upload';\n",
              "  const cancelPromise = new Promise((resolve) => {\n",
              "    cancel.onclick = () => {\n",
              "      resolve(null);\n",
              "    };\n",
              "  });\n",
              "\n",
              "  // Wait for the user to pick the files.\n",
              "  const files = yield {\n",
              "    promise: Promise.race([pickedPromise, cancelPromise]),\n",
              "    response: {\n",
              "      action: 'starting',\n",
              "    }\n",
              "  };\n",
              "\n",
              "  cancel.remove();\n",
              "\n",
              "  // Disable the input element since further picks are not allowed.\n",
              "  inputElement.disabled = true;\n",
              "\n",
              "  if (!files) {\n",
              "    return {\n",
              "      response: {\n",
              "        action: 'complete',\n",
              "      }\n",
              "    };\n",
              "  }\n",
              "\n",
              "  for (const file of files) {\n",
              "    const li = document.createElement('li');\n",
              "    li.append(span(file.name, {fontWeight: 'bold'}));\n",
              "    li.append(span(\n",
              "        `(${file.type || 'n/a'}) - ${file.size} bytes, ` +\n",
              "        `last modified: ${\n",
              "            file.lastModifiedDate ? file.lastModifiedDate.toLocaleDateString() :\n",
              "                                    'n/a'} - `));\n",
              "    const percent = span('0% done');\n",
              "    li.appendChild(percent);\n",
              "\n",
              "    outputElement.appendChild(li);\n",
              "\n",
              "    const fileDataPromise = new Promise((resolve) => {\n",
              "      const reader = new FileReader();\n",
              "      reader.onload = (e) => {\n",
              "        resolve(e.target.result);\n",
              "      };\n",
              "      reader.readAsArrayBuffer(file);\n",
              "    });\n",
              "    // Wait for the data to be ready.\n",
              "    let fileData = yield {\n",
              "      promise: fileDataPromise,\n",
              "      response: {\n",
              "        action: 'continue',\n",
              "      }\n",
              "    };\n",
              "\n",
              "    // Use a chunked sending to avoid message size limits. See b/62115660.\n",
              "    let position = 0;\n",
              "    do {\n",
              "      const length = Math.min(fileData.byteLength - position, MAX_PAYLOAD_SIZE);\n",
              "      const chunk = new Uint8Array(fileData, position, length);\n",
              "      position += length;\n",
              "\n",
              "      const base64 = btoa(String.fromCharCode.apply(null, chunk));\n",
              "      yield {\n",
              "        response: {\n",
              "          action: 'append',\n",
              "          file: file.name,\n",
              "          data: base64,\n",
              "        },\n",
              "      };\n",
              "\n",
              "      let percentDone = fileData.byteLength === 0 ?\n",
              "          100 :\n",
              "          Math.round((position / fileData.byteLength) * 100);\n",
              "      percent.textContent = `${percentDone}% done`;\n",
              "\n",
              "    } while (position < fileData.byteLength);\n",
              "  }\n",
              "\n",
              "  // All done.\n",
              "  yield {\n",
              "    response: {\n",
              "      action: 'complete',\n",
              "    }\n",
              "  };\n",
              "}\n",
              "\n",
              "scope.google = scope.google || {};\n",
              "scope.google.colab = scope.google.colab || {};\n",
              "scope.google.colab._files = {\n",
              "  _uploadFiles,\n",
              "  _uploadFilesContinue,\n",
              "};\n",
              "})(self);\n",
              "</script> "
            ]
          },
          "metadata": {}
        },
        {
          "output_type": "stream",
          "name": "stdout",
          "text": [
            "Saving bbbbd.csv to bbbbd.csv\n"
          ]
        }
      ]
    },
    {
      "cell_type": "code",
      "source": [
        "import pandas as pd\n",
        "import io\n",
        " \n",
        "df = pd.read_csv(io.BytesIO(uploaded['bbbbd.csv']))\n",
        "print(df)"
      ],
      "metadata": {
        "id": "uL1-huXF8Z4U"
      },
      "execution_count": null,
      "outputs": []
    },
    {
      "cell_type": "code",
      "source": [
        "df['new_col'] = list(zip(df.X, df.Y))"
      ],
      "metadata": {
        "id": "ngaFnPl_8iyj"
      },
      "execution_count": 70,
      "outputs": []
    },
    {
      "cell_type": "code",
      "source": [
        "print(df)"
      ],
      "metadata": {
        "id": "G0zP3sX9-Qm6",
        "colab": {
          "base_uri": "https://localhost:8080/"
        },
        "outputId": "ee2bfd54-83f5-4696-9dcc-3bdb05fa9909"
      },
      "execution_count": 71,
      "outputs": [
        {
          "output_type": "stream",
          "name": "stdout",
          "text": [
            "            X          Y      full_id      osm_id osm_type           amenity  \\\n",
            "0    4.355532  52.010006  n2599514291  2599514291     node          pharmacy   \n",
            "1    4.360679  52.009304  n2599514104  2599514104     node         fast_food   \n",
            "2    4.359838  52.011632  n2599515416  2599515416     node              cafe   \n",
            "3    4.359775  52.012207  n2599515328  2599515328     node              cafe   \n",
            "4    4.352679  52.012850  n2599515308  2599515308     node      kindergarten   \n",
            "..        ...        ...          ...         ...      ...               ...   \n",
            "512  4.358494  52.007798  n2599513703  2599513703     node  community_centre   \n",
            "513  4.367810  52.002028  n9508339244  9508339244     node  community_centre   \n",
            "514  4.363321  52.009686  n2599513554  2599513554     node         ice_cream   \n",
            "515  4.359654  52.011546  n2599514605  2599514605     node              cafe   \n",
            "516  4.363595  52.013296  n2599514567  2599514567     node         fast_food   \n",
            "\n",
            "     emergency  defibrilla  defibril_1 wheelchair  ... short_name toilets_wh  \\\n",
            "0          NaN         NaN         NaN        NaN  ...        NaN        NaN   \n",
            "1          NaN         NaN         NaN        NaN  ...        NaN        NaN   \n",
            "2          NaN         NaN         NaN        NaN  ...        NaN        NaN   \n",
            "3          NaN         NaN         NaN        NaN  ...        NaN        NaN   \n",
            "4          NaN         NaN         NaN        NaN  ...        NaN        NaN   \n",
            "..         ...         ...         ...        ...  ...        ...        ...   \n",
            "512        NaN         NaN         NaN        NaN  ...        NaN        NaN   \n",
            "513        NaN         NaN         NaN        NaN  ...        NaN        NaN   \n",
            "514        NaN         NaN         NaN        NaN  ...        NaN        NaN   \n",
            "515        NaN         NaN         NaN        NaN  ...        NaN        NaN   \n",
            "516        NaN         NaN         NaN        NaN  ...        NaN        NaN   \n",
            "\n",
            "    wheelcha_2         addr_stree addr_postc addr_house addr_count addr_city  \\\n",
            "0          yes      Phoenixstraat     2611AL          6        NaN     Delft   \n",
            "1          NaN       Huyterstraat     2611EL          6        NaN     Delft   \n",
            "2          NaN              Markt     2611GS         67         NL     Delft   \n",
            "3          NaN              Markt     2611GW        66A         NL     Delft   \n",
            "4          NaN      Phoenixstraat     2611AM         66        NaN     Delft   \n",
            "..         ...                ...        ...        ...        ...       ...   \n",
            "512        NaN         Oude Delft     2611BC         57        NaN     Delft   \n",
            "513        NaN     Rotterdamseweg     2628AL        137        NaN     Delft   \n",
            "514        NaN       Gasthuislaan     2611RB         54        NaN     Delft   \n",
            "515        NaN              Markt     2611GS         61         NL     Delft   \n",
            "516        NaN  Nieuwe Langendijk     2611VL         60        NaN     Delft   \n",
            "\n",
            "                     new_col                  geometry  \n",
            "0    (4.3555324, 52.0100064)  POINT (4.35553 52.01001)  \n",
            "1    (4.3606789, 52.0093045)  POINT (4.36068 52.00930)  \n",
            "2     (4.3598376, 52.011632)  POINT (4.35984 52.01163)  \n",
            "3    (4.3597748, 52.0122071)  POINT (4.35977 52.01221)  \n",
            "4     (4.352679, 52.0128496)  POINT (4.35268 52.01285)  \n",
            "..                       ...                       ...  \n",
            "512   (4.358494, 52.0077984)  POINT (4.35849 52.00780)  \n",
            "513  (4.3678101, 52.0020277)  POINT (4.36781 52.00203)  \n",
            "514  (4.3633212, 52.0096864)  POINT (4.36332 52.00969)  \n",
            "515  (4.3596538, 52.0115459)  POINT (4.35965 52.01155)  \n",
            "516   (4.363595, 52.0132958)  POINT (4.36360 52.01330)  \n",
            "\n",
            "[517 rows x 22 columns]\n"
          ]
        }
      ]
    },
    {
      "cell_type": "code",
      "source": [
        "max_distance = 0.004 # Assuming lats and longs are in decimal degrees, this corresponds to 11.1 meters\n",
        "points = [(4.3555324, 52.0100064), (4.3606789, 52.0093045), (4.4606789, 52.0093045), (4.3906789, 52.0193045)]\n",
        "tree = cKDTree(points)\n"
      ],
      "metadata": {
        "id": "WNT8tdK6FIRl"
      },
      "execution_count": 72,
      "outputs": []
    },
    {
      "cell_type": "code",
      "source": [
        "type (points)"
      ],
      "metadata": {
        "id": "iLnumtlUd5WS"
      },
      "execution_count": null,
      "outputs": []
    },
    {
      "cell_type": "code",
      "source": [
        "tree"
      ],
      "metadata": {
        "id": "_1ieBUu7bovt"
      },
      "execution_count": null,
      "outputs": []
    },
    {
      "cell_type": "code",
      "source": [
        "(points)"
      ],
      "metadata": {
        "id": "tpsoP5vc-aY_"
      },
      "execution_count": null,
      "outputs": []
    },
    {
      "cell_type": "code",
      "source": [
        "type (df.new_col)"
      ],
      "metadata": {
        "id": "g-T2zwD9-e1f"
      },
      "execution_count": null,
      "outputs": []
    },
    {
      "cell_type": "code",
      "source": [
        "numbers_list = df.new_col.tolist()\n",
        "print(type(numbers_list))"
      ],
      "metadata": {
        "id": "ATMdn7z6eYYi"
      },
      "execution_count": null,
      "outputs": []
    },
    {
      "cell_type": "code",
      "source": [
        "tree = cKDTree(numbers_list)\n"
      ],
      "metadata": {
        "id": "2aXOONOObb3H"
      },
      "execution_count": 88,
      "outputs": []
    },
    {
      "cell_type": "code",
      "source": [
        "numbers_list"
      ],
      "metadata": {
        "id": "V5o89pP7ed6w"
      },
      "execution_count": null,
      "outputs": []
    },
    {
      "cell_type": "code",
      "source": [
        "\n",
        "# point_neighbors_list = [(4.358494, 52.0077984), (4.3678101, 52.0020277), (4.3633212, 52.0096864), (4.3596538, 52.0115459), (4.363595, 52.0132958)]\n",
        "point_neighbors_list = [(4.377347, 52.01285)]"
      ],
      "metadata": {
        "id": "7yk1N0fhFjI0"
      },
      "execution_count": 76,
      "outputs": []
    },
    {
      "cell_type": "code",
      "source": [
        "for point in points:\n",
        "    distances, indices = tree.query(point, len(points), p=2, distance_upper_bound=max_distance)\n",
        "    point_neighbors = []\n",
        "    for index, distance in zip(indices, distances):\n",
        "        if distance == inf:\n",
        "            break\n",
        "        point_neighbors.append(points[index])\n",
        "    point_neighbors_list.append(point_neighbors)"
      ],
      "metadata": {
        "id": "CXbs5ZOwFmK3"
      },
      "execution_count": 47,
      "outputs": []
    },
    {
      "cell_type": "code",
      "source": [],
      "metadata": {
        "id": "MZA4U9ML_DGn"
      },
      "execution_count": null,
      "outputs": []
    },
    {
      "cell_type": "code",
      "source": [
        "for point in df.new_col:\n",
        "    distances, indices = tree.query(point, len(df.new_col), p=2, distance_upper_bound=max_distance)\n",
        "    point_neighbors = []\n",
        "    for index, distance in zip(indices, distances):\n",
        "        if distance == inf:\n",
        "            break\n",
        "        point_neighbors.append(df.new_col[index])\n",
        "    point_neighbors_list.append(point_neighbors)"
      ],
      "metadata": {
        "id": "oJJ1048w_Dla"
      },
      "execution_count": 90,
      "outputs": []
    },
    {
      "cell_type": "code",
      "source": [
        "len(df.new_col)"
      ],
      "metadata": {
        "colab": {
          "base_uri": "https://localhost:8080/"
        },
        "id": "b_yo6IZCfiMn",
        "outputId": "537cfe4a-75e8-47e9-c6ac-8e8dc3e0bf68"
      },
      "execution_count": 94,
      "outputs": [
        {
          "output_type": "execute_result",
          "data": {
            "text/plain": [
              "517"
            ]
          },
          "metadata": {},
          "execution_count": 94
        }
      ]
    },
    {
      "cell_type": "code",
      "source": [
        "point"
      ],
      "metadata": {
        "id": "3f3uimrY_ZlO",
        "colab": {
          "base_uri": "https://localhost:8080/"
        },
        "outputId": "fe5a3011-3c53-47be-e83b-018e41d8bcda"
      },
      "execution_count": 36,
      "outputs": [
        {
          "output_type": "execute_result",
          "data": {
            "text/plain": [
              "(4.363595, 52.0132958)"
            ]
          },
          "metadata": {},
          "execution_count": 36
        }
      ]
    },
    {
      "cell_type": "code",
      "source": [
        "len(point_neighbors_list)"
      ],
      "metadata": {
        "colab": {
          "base_uri": "https://localhost:8080/"
        },
        "id": "H6knSlFcFmCk",
        "outputId": "a22dd5ad-6196-4ac3-a1c6-5e8dd239136b"
      },
      "execution_count": 91,
      "outputs": [
        {
          "output_type": "execute_result",
          "data": {
            "text/plain": [
              "1035"
            ]
          },
          "metadata": {},
          "execution_count": 91
        }
      ]
    },
    {
      "cell_type": "code",
      "source": [
        "len(df)"
      ],
      "metadata": {
        "colab": {
          "base_uri": "https://localhost:8080/"
        },
        "id": "jUF9qFtXA5yW",
        "outputId": "35c0215b-b80d-436d-cf78-efadf90347cd"
      },
      "execution_count": 92,
      "outputs": [
        {
          "output_type": "execute_result",
          "data": {
            "text/plain": [
              "517"
            ]
          },
          "metadata": {},
          "execution_count": 92
        }
      ]
    },
    {
      "cell_type": "code",
      "source": [
        "point_neighbors_list"
      ],
      "metadata": {
        "id": "iNj9BOjqA0PO"
      },
      "execution_count": null,
      "outputs": []
    },
    {
      "cell_type": "code",
      "source": [],
      "metadata": {
        "id": "oxZJ2uyOZaIK"
      },
      "execution_count": null,
      "outputs": []
    },
    {
      "cell_type": "code",
      "source": [
        "import geopandas as gpd\n",
        "import shapely"
      ],
      "metadata": {
        "id": "H8ionsHSTRaw"
      },
      "execution_count": 62,
      "outputs": []
    },
    {
      "cell_type": "code",
      "source": [
        "\n",
        "df # your pandas dataframe with 10k records\n",
        "df_filt = point_neighbors_list# your filtered dataframe\n",
        "\n",
        "# Create geometries from your lat-lons\n",
        "geom_list = [shapely.geometry.Point(lon,lat) for lon,lat in zip(df[\"X\"] ,df[\"Y\"])] # check the ordering of lon/lat\n",
        "\n",
        "# create geopandas geodataframe\n",
        "gdf = gpd.GeoDataFrame(df, geometry=geom_list, crs={\"init\":\"EPSG:4326\"})"
      ],
      "metadata": {
        "colab": {
          "base_uri": "https://localhost:8080/"
        },
        "id": "195Q5vzXTR-8",
        "outputId": "44d45284-e0af-4e23-f2d9-cda98518dbc0"
      },
      "execution_count": 64,
      "outputs": [
        {
          "output_type": "stream",
          "name": "stderr",
          "text": [
            "/usr/local/lib/python3.7/dist-packages/pyproj/crs/crs.py:131: FutureWarning: '+init=<authority>:<code>' syntax is deprecated. '<authority>:<code>' is the preferred initialization method. When making the change, be mindful of axis order changes: https://pyproj4.github.io/pyproj/stable/gotchas.html#axis-order-changes-in-proj-6\n",
            "  in_crs_string = _prepare_from_proj_string(in_crs_string)\n"
          ]
        }
      ]
    },
    {
      "cell_type": "code",
      "source": [],
      "metadata": {
        "id": "hUvK-tOOZxHx"
      },
      "execution_count": null,
      "outputs": []
    },
    {
      "cell_type": "code",
      "source": [
        "import geopandas as gpd\n",
        "gdf = gpd.GeoDataFrame(\n",
        "df, geometry=gpd.points_from_xy(df.long, df.lat), crs=\"EPSG:4326\")\n",
        "gdf=gdf.to_crs(\"EPSG:3857\") #convert projection web mercator or find best epsg code, where your data have.\n",
        "gdf['buffergeometry25miles'] = gdf['geometry'].buffer(40233.6) # 25 mile = 40233.6 meter radius\n",
        "gdf.set_geometry('buffergeometry25miles',inplace=True)\n",
        "\n",
        "givengdf = gpd.GeoDataFrame(\n",
        "given_df, geometry=gpd.points_from_xy(given_df.long, given_df.lat), crs=\"EPSG:4326\")\n",
        "givengdf=givengdf.to_crs(\"EPSG:3857\")\n",
        "\n",
        "intersect_df = gpd.overlay(gdf, givengdf, how='intersection', keep_geom_type=False)\n",
        "\n",
        "intersect_df is spatial intersection of two dataframe, you can make multi intersection with this method."
      ],
      "metadata": {
        "id": "0XJuByLrTSW1"
      },
      "execution_count": null,
      "outputs": []
    }
  ]
}